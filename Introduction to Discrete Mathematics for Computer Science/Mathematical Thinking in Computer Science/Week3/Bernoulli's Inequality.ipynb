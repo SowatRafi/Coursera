{
 "cells": [
  {
   "cell_type": "raw",
   "metadata": {},
   "source": [
    "Use this notebook 3-fold:\n",
    "    * Play with parameters and visualize how (1 + x)^n grows compared to 1 + nx\n",
    "    * Compute how much money you will have on day n given the starting cash if you earn x% every day\n",
    "    * Determine when you will reach the specified wealth given the starting sum and the percentage you earn every day"
   ]
  },
  {
   "cell_type": "code",
   "execution_count": 1,
   "metadata": {},
   "outputs": [
    {
     "data": {
      "image/png": "[encoded data removed]",
      "text/plain": [
       "<Figure size 432x288 with 1 Axes>"
      ]
     },
     "metadata": {
      "needs_background": "light"
     },
     "output_type": "display_data"
    }
   ],
   "source": [
    "%matplotlib inline\n",
    "\n",
    "import matplotlib.pyplot as plt\n",
    "import numpy as np\n",
    "\n",
    "# You can play with the range of values for n and with the base 1.02, see what changes\n",
    "sample = 200\n",
    "x = np.arange(sample)\n",
    "# This is used to plot the graph of 1.02^n, it is blue on the picture below\n",
    "y = 1.02 ** x\n",
    "plt.plot(x, y)\n",
    "plt.xlabel('n')\n",
    "plt.ylabel('Money($)')\n",
    "# This is used to plot the graph of 1 + 0.02 * n, it is green on the picture below\n",
    "z = 1 + 0.02 * x\n",
    "plt.plot(x, z)\n",
    "plt.show()"
   ]
  },
  {
   "cell_type": "code",
   "execution_count": 2,
   "metadata": {},
   "outputs": [
    {
     "name": "stdout",
     "output_type": "stream",
     "text": [
      "If you start with $1000 and earn 2% each day, you will have more than $1003367 on day 350!\n"
     ]
    }
   ],
   "source": [
    "# Computes how much money you will have on day *day*, if you start with *starting_amount* of cash\n",
    "# and earn *earn_percent* percents of what you already have every day.\n",
    "def HowMuchMoney(starting_amount, earn_percent, day):\n",
    "    day_multiplier = 1 + (earn_percent / 100.0)\n",
    "    return starting_amount * (day_multiplier ** (day - 1))\n",
    "    \n",
    "def PrintExample(starting_amount, earn_percent, day):\n",
    "    print(\"If you start with $%d and earn %d%% each day, you will have more than $%.0f on day %d!\" % \n",
    "          (starting_amount, earn_percent, HowMuchMoney(starting_amount, earn_percent, day), day))\n",
    "\n",
    "# Prints what will happen by day 350 if you start with $1000 and earn 2% every day\n",
    "# Feel free to play with the parameters\n",
    "PrintExample(1000, 2, 350)"
   ]
  },
  {
   "cell_type": "code",
   "execution_count": 3,
   "metadata": {},
   "outputs": [
    {
     "name": "stdout",
     "output_type": "stream",
     "text": [
      "If you start with $1000 and earn 2% each day, you will have more than $1000000 on day 350 for the first time!\n"
     ]
    }
   ],
   "source": [
    "# Compute the number of the first day when your wealth will exceed *target_amount*,\n",
    "# if you start with *starting_amount* of cash and earn *earn_percent* percents every day\n",
    "def DayToReachTarget(starting_amount, earn_percent, target_amount):\n",
    "    day = 1\n",
    "    amount = starting_amount\n",
    "    day_multiplier = (1 + (earn_percent) / 100.0)\n",
    "    while amount < target_amount:\n",
    "        day += 1\n",
    "        amount = amount * day_multiplier\n",
    "    return day\n",
    "\n",
    "def PrintFirstDay(starting_amount, earn_percent, target_amount):\n",
    "    print(\"If you start with $%d and earn %d%% each day, you will have more than $%d on day %d for the first time!\" %\n",
    "          (starting_amount, earn_percent, target_amount, DayToReachTarget(starting_amount, earn_percent, target_amount)))\n",
    "\n",
    "# Prints when you will get more than $1000000 for the first time, if you start with $1000\n",
    "# and earn 2% every day.\n",
    "PrintFirstDay(1000, 2, 1000000)"
   ]
  }
 ],
 "metadata": {
  "kernelspec": {
   "display_name": "Python 2",
   "language": "python",
   "name": "python2"
  },
  "language_info": {
   "codemirror_mode": {
    "name": "ipython",
    "version": 2
   },
   "file_extension": ".py",
   "mimetype": "text/x-python",
   "name": "python",
   "nbconvert_exporter": "python",
   "pygments_lexer": "ipython2",
   "version": "2.7.15"
  }
 },
 "nbformat": 4,
 "nbformat_minor": 2
}
